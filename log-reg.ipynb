{
 "cells": [
  {
   "cell_type": "markdown",
   "metadata": {},
   "source": [
    "# Imports"
   ]
  },
  {
   "cell_type": "code",
   "execution_count": 1,
   "metadata": {},
   "outputs": [],
   "source": [
    "import numpy as np\n",
    "import scipy.stats as scs\n",
    "import matplotlib.pyplot as plt\n",
    "\n",
    "%matplotlib inline"
   ]
  },
  {
   "cell_type": "markdown",
   "metadata": {},
   "source": [
    "# Generate data"
   ]
  },
  {
   "cell_type": "code",
   "execution_count": 2,
   "metadata": {},
   "outputs": [],
   "source": [
    "xs = np.array(range(10, 200, 20))\n",
    "ys = np.array([0,0,0,0,1,0,1,0,1,1])"
   ]
  },
  {
   "cell_type": "code",
   "execution_count": 3,
   "metadata": {},
   "outputs": [
    {
     "data": {
      "image/png": "[encoded data removed]",
      "text/plain": [
       "<Figure size 432x288 with 1 Axes>"
      ]
     },
     "metadata": {
      "needs_background": "light"
     },
     "output_type": "display_data"
    }
   ],
   "source": [
    "plt.scatter(xs, ys)\n",
    "plt.show()"
   ]
  },
  {
   "cell_type": "markdown",
   "metadata": {},
   "source": [
    "# Functions"
   ]
  },
  {
   "cell_type": "code",
   "execution_count": 4,
   "metadata": {},
   "outputs": [],
   "source": [
    "def predict(xs, b1):\n",
    "    return 1 / (1 + np.exp( -1 * xs * b1))"
   ]
  },
  {
   "cell_type": "code",
   "execution_count": 5,
   "metadata": {},
   "outputs": [],
   "source": [
    "def loss(ys, phs):\n",
    "    # negative log loss\n",
    "    losses = (ys * np.log(phs)) + ((1 - ys) * np.log(1 - phs))\n",
    "    return -1 * losses # [~np.isnan(losses) & ~np.isinf(losses)]"
   ]
  },
  {
   "cell_type": "code",
   "execution_count": null,
   "metadata": {},
   "outputs": [],
   "source": []
  },
  {
   "cell_type": "code",
   "execution_count": 6,
   "metadata": {},
   "outputs": [],
   "source": [
    "from sklearn.linear_model import LogisticRegression"
   ]
  },
  {
   "cell_type": "code",
   "execution_count": 7,
   "metadata": {},
   "outputs": [
    {
     "name": "stderr",
     "output_type": "stream",
     "text": [
      "/Users/chyld/.conda/envs/py37/lib/python3.7/site-packages/sklearn/linear_model/logistic.py:433: FutureWarning: Default solver will be changed to 'lbfgs' in 0.22. Specify a solver to silence this warning.\n",
      "  FutureWarning)\n"
     ]
    }
   ],
   "source": [
    "model = LogisticRegression().fit(xs.reshape(10,1), ys)"
   ]
  },
  {
   "cell_type": "code",
   "execution_count": 8,
   "metadata": {},
   "outputs": [
    {
     "data": {
      "text/plain": [
       "array([[0.01007969]])"
      ]
     },
     "execution_count": 8,
     "metadata": {},
     "output_type": "execute_result"
    }
   ],
   "source": [
    "model.coef_"
   ]
  },
  {
   "cell_type": "code",
   "execution_count": 9,
   "metadata": {},
   "outputs": [
    {
     "data": {
      "text/plain": [
       "array([-1.00497899])"
      ]
     },
     "execution_count": 9,
     "metadata": {},
     "output_type": "execute_result"
    }
   ],
   "source": [
    "model.intercept_"
   ]
  },
  {
   "cell_type": "code",
   "execution_count": 10,
   "metadata": {},
   "outputs": [
    {
     "data": {
      "text/plain": [
       "array([0.28819183, 0.33123861, 0.37730698, 0.42570398, 0.47556773,\n",
       "       0.52592344, 0.57575732, 0.62409693, 0.6700847 , 0.7130333 ])"
      ]
     },
     "execution_count": 10,
     "metadata": {},
     "output_type": "execute_result"
    }
   ],
   "source": [
    "model.predict_proba(xs.reshape(10,1))[:,1]"
   ]
  },
  {
   "cell_type": "markdown",
   "metadata": {},
   "source": [
    "# Loss as function of $ \\beta $"
   ]
  },
  {
   "cell_type": "code",
   "execution_count": 11,
   "metadata": {},
   "outputs": [
    {
     "name": "stderr",
     "output_type": "stream",
     "text": [
      "/Users/chyld/.conda/envs/py37/lib/python3.7/site-packages/ipykernel_launcher.py:3: RuntimeWarning: divide by zero encountered in log\n",
      "  This is separate from the ipykernel package so we can avoid doing imports until\n",
      "/Users/chyld/.conda/envs/py37/lib/python3.7/site-packages/ipykernel_launcher.py:3: RuntimeWarning: invalid value encountered in multiply\n",
      "  This is separate from the ipykernel package so we can avoid doing imports until\n"
     ]
    }
   ],
   "source": [
    "betas = list(range(-2,4))\n",
    "predictions = np.array([predict(xs, b) for b in betas])\n",
    "losses = np.array([loss(ys, predict(xs, b)) for b in betas])"
   ]
  },
  {
   "cell_type": "code",
   "execution_count": 12,
   "metadata": {},
   "outputs": [
    {
     "data": {
      "text/plain": [
       "[-2, -1, 0, 1, 2, 3]"
      ]
     },
     "execution_count": 12,
     "metadata": {},
     "output_type": "execute_result"
    }
   ],
   "source": [
    "betas"
   ]
  },
  {
   "cell_type": "code",
   "execution_count": 13,
   "metadata": {},
   "outputs": [
    {
     "name": "stderr",
     "output_type": "stream",
     "text": [
      "/Users/chyld/.conda/envs/py37/lib/python3.7/site-packages/matplotlib/cbook/__init__.py:1166: RuntimeWarning: invalid value encountered in double_scalars\n",
      "  notch_min = med - 1.57 * iqr / np.sqrt(N)\n",
      "/Users/chyld/.conda/envs/py37/lib/python3.7/site-packages/numpy/lib/function_base.py:3826: RuntimeWarning: Invalid value encountered in percentile\n",
      "  interpolation=interpolation)\n"
     ]
    },
    {
     "data": {
      "image/png": "[encoded data removed]",
      "text/plain": [
       "<Figure size 1008x504 with 1 Axes>"
      ]
     },
     "metadata": {
      "needs_background": "light"
     },
     "output_type": "display_data"
    }
   ],
   "source": [
    "fig = plt.figure(figsize=(14, 7))\n",
    "ax = fig.add_subplot(111)\n",
    "bp = ax.boxplot(losses, patch_artist=True)\n",
    "for box in bp['boxes']:\n",
    "    box.set(color='#ff33cc', linewidth=1)\n",
    "    box.set(facecolor='#dddddd', alpha=0.5)\n",
    "for whisker in bp['whiskers']:\n",
    "    whisker.set(color='blue', linewidth=1, linestyle='--')\n",
    "for cap in bp['caps']:\n",
    "    cap.set(color='blue', linewidth=1)\n",
    "for median in bp['medians']:\n",
    "    median.set(color='green', linewidth=1, linestyle='--')\n",
    "for flier in bp['fliers']:\n",
    "    flier.set(color='black', marker='*', alpha=0.7)\n",
    "ax.set_xticklabels(betas)\n",
    "ax.set_xlabel('Beta')\n",
    "ax.set_ylabel('Loss')\n",
    "plt.show()"
   ]
  },
  {
   "cell_type": "code",
   "execution_count": 14,
   "metadata": {},
   "outputs": [
    {
     "data": {
      "text/plain": [
       "array([[2.06115362e-009, 8.75651076e-027, 3.72007598e-044,\n",
       "        1.58042006e-061, 6.71418429e-079, 2.85242334e-096,\n",
       "        1.21181048e-113, 5.14820022e-131, 2.18713783e-148,\n",
       "        9.29173632e-166],\n",
       "       [4.53978687e-005, 9.35762297e-014, 1.92874985e-022,\n",
       "        3.97544974e-031, 8.19401262e-040, 1.68891188e-048,\n",
       "        3.48110684e-057, 7.17509597e-066, 1.47889751e-074,\n",
       "        3.04823495e-083],\n",
       "       [5.00000000e-001, 5.00000000e-001, 5.00000000e-001,\n",
       "        5.00000000e-001, 5.00000000e-001, 5.00000000e-001,\n",
       "        5.00000000e-001, 5.00000000e-001, 5.00000000e-001,\n",
       "        5.00000000e-001],\n",
       "       [9.99954602e-001, 1.00000000e+000, 1.00000000e+000,\n",
       "        1.00000000e+000, 1.00000000e+000, 1.00000000e+000,\n",
       "        1.00000000e+000, 1.00000000e+000, 1.00000000e+000,\n",
       "        1.00000000e+000],\n",
       "       [9.99999998e-001, 1.00000000e+000, 1.00000000e+000,\n",
       "        1.00000000e+000, 1.00000000e+000, 1.00000000e+000,\n",
       "        1.00000000e+000, 1.00000000e+000, 1.00000000e+000,\n",
       "        1.00000000e+000],\n",
       "       [1.00000000e+000, 1.00000000e+000, 1.00000000e+000,\n",
       "        1.00000000e+000, 1.00000000e+000, 1.00000000e+000,\n",
       "        1.00000000e+000, 1.00000000e+000, 1.00000000e+000,\n",
       "        1.00000000e+000]])"
      ]
     },
     "execution_count": 14,
     "metadata": {},
     "output_type": "execute_result"
    }
   ],
   "source": [
    "predictions"
   ]
  },
  {
   "cell_type": "code",
   "execution_count": 15,
   "metadata": {},
   "outputs": [
    {
     "data": {
      "text/plain": [
       "array([[ 2.06115358e-09, -0.00000000e+00, -0.00000000e+00,\n",
       "        -0.00000000e+00,  1.80000000e+02, -0.00000000e+00,\n",
       "         2.60000000e+02, -0.00000000e+00,  3.40000000e+02,\n",
       "         3.80000000e+02],\n",
       "       [ 4.53988992e-05,  9.35918010e-14, -0.00000000e+00,\n",
       "        -0.00000000e+00,  9.00000000e+01, -0.00000000e+00,\n",
       "         1.30000000e+02, -0.00000000e+00,  1.70000000e+02,\n",
       "         1.90000000e+02],\n",
       "       [ 6.93147181e-01,  6.93147181e-01,  6.93147181e-01,\n",
       "         6.93147181e-01,  6.93147181e-01,  6.93147181e-01,\n",
       "         6.93147181e-01,  6.93147181e-01,  6.93147181e-01,\n",
       "         6.93147181e-01],\n",
       "       [ 1.00000454e+01,  3.00010206e+01,             inf,\n",
       "                    inf,             nan,             inf,\n",
       "                    nan,             inf,             nan,\n",
       "                    nan],\n",
       "       [ 2.00000000e+01,             inf,             inf,\n",
       "                    inf,             nan,             inf,\n",
       "                    nan,             inf,             nan,\n",
       "                    nan],\n",
       "       [ 3.00010206e+01,             inf,             inf,\n",
       "                    inf,             nan,             inf,\n",
       "                    nan,             inf,             nan,\n",
       "                    nan]])"
      ]
     },
     "execution_count": 15,
     "metadata": {},
     "output_type": "execute_result"
    }
   ],
   "source": [
    "losses"
   ]
  },
  {
   "cell_type": "code",
   "execution_count": null,
   "metadata": {},
   "outputs": [],
   "source": []
  }
 ],
 "metadata": {
  "kernelspec": {
   "display_name": "Python 3",
   "language": "python",
   "name": "python3"
  },
  "language_info": {
   "codemirror_mode": {
    "name": "ipython",
    "version": 3
   },
   "file_extension": ".py",
   "mimetype": "text/x-python",
   "name": "python",
   "nbconvert_exporter": "python",
   "pygments_lexer": "ipython3",
   "version": "3.7.3"
  }
 },
 "nbformat": 4,
 "nbformat_minor": 2
}
